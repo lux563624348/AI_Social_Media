{
 "cells": [
  {
   "cell_type": "code",
   "execution_count": 3,
   "id": "cee34a68-271e-4ff4-9603-bb262246bf5d",
   "metadata": {},
   "outputs": [],
   "source": [
    "import os\n",
    "import pandas as pd\n",
    "import snscrape.modules.twitter as sntwitter\n",
    "from datetime import datetime"
   ]
  },
  {
   "cell_type": "code",
   "execution_count": 6,
   "id": "773c7d65-4719-48a2-949a-be540acb08e5",
   "metadata": {},
   "outputs": [],
   "source": [
    "import requests\n",
    "import time"
   ]
  },
  {
   "cell_type": "code",
   "execution_count": 70,
   "id": "24fc4a78-0629-4f31-90c6-6ef0a67e8313",
   "metadata": {},
   "outputs": [],
   "source": [
    "def fetch_latest_tweet(user_id: str, key_file: str = \"api_key.txt\", limit: int = 1):\n",
    "    \"\"\"\n",
    "    Fetch the latest tweet from a given Twitter user ID using TwitterAPI.io.\n",
    "\n",
    "    Args:\n",
    "        user_id (str): The numeric user ID of the Twitter user.\n",
    "        key_file (str): Path to file containing the API key (default 'api_key.txt').\n",
    "        limit (int): Number of tweets to request from the API (default 1).\n",
    "\n",
    "    Returns:\n",
    "        dict or None: Dictionary with 'text' and 'createdAt', or None on failure.\n",
    "    \"\"\"\n",
    "    try:\n",
    "        with open(key_file, \"r\") as f:\n",
    "            api_key = f.read().strip()\n",
    "    except FileNotFoundError:\n",
    "        print(f\"❌ API key file not found: {key_file}\")\n",
    "        return None\n",
    "\n",
    "    url = \"https://api.twitterapi.io/twitter/user/last_tweets\"\n",
    "    headers = {\"X-API-Key\": api_key}\n",
    "    params = {\"userId\": user_id, \"limit\": str(limit)}\n",
    "\n",
    "    response = requests.get(url, headers=headers, params=params)\n",
    "    if response.status_code == 200:\n",
    "        try:\n",
    "            tweets = response.json().get(\"data\", {}).get(\"tweets\", [])\n",
    "            if tweets:\n",
    "                return {\n",
    "                    \"createdAt\": tweets[0].get(\"createdAt\"),\n",
    "                    \"text\": tweets[0].get(\"text\")\n",
    "                }\n",
    "            else:\n",
    "                print(\"⚠️ No tweets found.\")\n",
    "                return None\n",
    "        except Exception as e:\n",
    "            print(f\"❌ Error parsing response: {e}\")\n",
    "            return None\n",
    "    else:\n",
    "        print(f\"❌ Request failed with status {response.status_code}\")\n",
    "        return tweets"
   ]
  },
  {
   "cell_type": "code",
   "execution_count": 72,
   "id": "5eec02ca-4dc5-4775-bf3d-833714f672ed",
   "metadata": {},
   "outputs": [],
   "source": [
    "useID = \"44196397\"\n",
    "tweets = fetch_latest_tweet(useID, \"api_key.txt\", 1)"
   ]
  },
  {
   "cell_type": "code",
   "execution_count": 73,
   "id": "2c96abb5-8fda-48fe-a67a-ec2d98910e63",
   "metadata": {},
   "outputs": [
    {
     "data": {
      "text/plain": [
       "{'createdAt': 'Thu Jun 26 04:07:16 +0000 2025', 'text': 'True'}"
      ]
     },
     "execution_count": 73,
     "metadata": {},
     "output_type": "execute_result"
    }
   ],
   "source": [
    "tweets"
   ]
  }
 ],
 "metadata": {
  "kernelspec": {
   "display_name": "Python 3 (ipykernel)",
   "language": "python",
   "name": "python3"
  },
  "language_info": {
   "codemirror_mode": {
    "name": "ipython",
    "version": 3
   },
   "file_extension": ".py",
   "mimetype": "text/x-python",
   "name": "python",
   "nbconvert_exporter": "python",
   "pygments_lexer": "ipython3",
   "version": "3.10.18"
  }
 },
 "nbformat": 4,
 "nbformat_minor": 5
}
